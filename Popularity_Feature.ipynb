{
 "cells": [
  {
   "cell_type": "code",
   "execution_count": 5,
   "id": "a21c153c-029b-46fc-9198-dd3cbc90d778",
   "metadata": {},
   "outputs": [
    {
     "name": "stdout",
     "output_type": "stream",
     "text": [
      "It worked\n"
     ]
    }
   ],
   "source": [
    "import pandas as pd\n",
    "import boto3\n",
    "import os\n",
    "from dotenv import load_dotenv\n",
    "import base64\n",
    "import urllib.parse\n",
    "load_dotenv()\n",
    "\n",
    "clientID = os.getenv('CLIENT_ID')\n",
    "clientSecret = os.getenv('CLIENT_SECRET')\n",
    "redirect_uri = os.getenv('REDIRECT_URI')\n",
    "\n",
    "song_data = pd.read_csv('models/tracks_features.csv')\n",
    "\n",
    "if clientID is not None and clientSecret is not None and redirect_uri is not None:\n",
    "    print('It worked')"
   ]
  },
  {
   "cell_type": "code",
   "execution_count": null,
   "id": "7eba6a17",
   "metadata": {},
   "outputs": [
    {
     "name": "stdout",
     "output_type": "stream",
     "text": [
      "Index(['id', 'name', 'album', 'album_id', 'artists', 'artist_ids',\n",
      "       'track_number', 'disc_number', 'explicit', 'danceability', 'energy',\n",
      "       'key', 'loudness', 'mode', 'speechiness', 'acousticness',\n",
      "       'instrumentalness', 'liveness', 'valence', 'tempo', 'duration_ms',\n",
      "       'time_signature', 'year', 'release_date'],\n",
      "      dtype='object')\n"
     ]
    }
   ],
   "source": [
    "print(song_data.columns)"
   ]
  },
  {
   "cell_type": "code",
   "execution_count": 10,
   "id": "3b200ef3",
   "metadata": {},
   "outputs": [],
   "source": [
    "songIDs = song_data[['id', 'name']]"
   ]
  },
  {
   "cell_type": "code",
   "execution_count": 9,
   "id": "dcdac557",
   "metadata": {},
   "outputs": [
    {
     "data": {
      "text/html": [
       "<div>\n",
       "<style scoped>\n",
       "    .dataframe tbody tr th:only-of-type {\n",
       "        vertical-align: middle;\n",
       "    }\n",
       "\n",
       "    .dataframe tbody tr th {\n",
       "        vertical-align: top;\n",
       "    }\n",
       "\n",
       "    .dataframe thead th {\n",
       "        text-align: right;\n",
       "    }\n",
       "</style>\n",
       "<table border=\"1\" class=\"dataframe\">\n",
       "  <thead>\n",
       "    <tr style=\"text-align: right;\">\n",
       "      <th></th>\n",
       "      <th>id</th>\n",
       "      <th>name</th>\n",
       "    </tr>\n",
       "  </thead>\n",
       "  <tbody>\n",
       "    <tr>\n",
       "      <th>0</th>\n",
       "      <td>7lmeHLHBe4nmXzuXc0HDjk</td>\n",
       "      <td>Testify</td>\n",
       "    </tr>\n",
       "    <tr>\n",
       "      <th>1</th>\n",
       "      <td>1wsRitfRRtWyEapl0q22o8</td>\n",
       "      <td>Guerrilla Radio</td>\n",
       "    </tr>\n",
       "    <tr>\n",
       "      <th>2</th>\n",
       "      <td>1hR0fIFK2qRG3f3RF70pb7</td>\n",
       "      <td>Calm Like a Bomb</td>\n",
       "    </tr>\n",
       "    <tr>\n",
       "      <th>3</th>\n",
       "      <td>2lbASgTSoDO7MTuLAXlTW0</td>\n",
       "      <td>Mic Check</td>\n",
       "    </tr>\n",
       "    <tr>\n",
       "      <th>4</th>\n",
       "      <td>1MQTmpYOZ6fcMQc56Hdo7T</td>\n",
       "      <td>Sleep Now In the Fire</td>\n",
       "    </tr>\n",
       "  </tbody>\n",
       "</table>\n",
       "</div>"
      ],
      "text/plain": [
       "                       id                   name\n",
       "0  7lmeHLHBe4nmXzuXc0HDjk                Testify\n",
       "1  1wsRitfRRtWyEapl0q22o8        Guerrilla Radio\n",
       "2  1hR0fIFK2qRG3f3RF70pb7       Calm Like a Bomb\n",
       "3  2lbASgTSoDO7MTuLAXlTW0              Mic Check\n",
       "4  1MQTmpYOZ6fcMQc56Hdo7T  Sleep Now In the Fire"
      ]
     },
     "execution_count": 9,
     "metadata": {},
     "output_type": "execute_result"
    }
   ],
   "source": [
    "songIDs.head()"
   ]
  },
  {
   "cell_type": "code",
   "execution_count": 2,
   "id": "83154d72",
   "metadata": {},
   "outputs": [
    {
     "name": "stdout",
     "output_type": "stream",
     "text": [
      "https://accounts.spotify.com/authorize?response_type=code&client_id=7993a5eeebb94bb29a8b24909f6d91fb&redirect_uri=http%3A%2F%2F127.0.0.1%3A5000%2Fcallback\n"
     ]
    }
   ],
   "source": [
    "# Getting Authorization code\n",
    "auth_url = \"https://accounts.spotify.com/authorize\"\n",
    "params = {\n",
    "    \"response_type\": 'code',\n",
    "    \"client_id\": clientID,\n",
    "    \"redirect_uri\": redirect_uri,\n",
    "}\n",
    "\n",
    "query = urllib.parse.urlencode(params)\n",
    "print(f\"{auth_url}?{query}\")"
   ]
  },
  {
   "cell_type": "code",
   "execution_count": null,
   "id": "b5014140",
   "metadata": {},
   "outputs": [],
   "source": [
    "# Getting Access token\n",
    "\n",
    "credentials = f\"{clientID}:{clientSecret}\"\n",
    "b64_credentials = base64.b64encode(credentials.encode()).decode()\n",
    "\n",
    "token_url = \"https://accounts.spotify.com/api/token\"\n",
    "headers = {\n",
    "    \"Authorization\": f\"Basic {b64_credentials}\",\n",
    "    \"Content-Type\": f\"application/x-www-form-urlencoded\"\n",
    "}\n",
    "\n",
    "data = {\n",
    "    \"grant_type\": \"client_\"\n",
    "}\n"
   ]
  }
 ],
 "metadata": {
  "kernelspec": {
   "display_name": ".venv",
   "language": "python",
   "name": "python3"
  },
  "language_info": {
   "codemirror_mode": {
    "name": "ipython",
    "version": 3
   },
   "file_extension": ".py",
   "mimetype": "text/x-python",
   "name": "python",
   "nbconvert_exporter": "python",
   "pygments_lexer": "ipython3",
   "version": "3.11.9"
  }
 },
 "nbformat": 4,
 "nbformat_minor": 5
}
