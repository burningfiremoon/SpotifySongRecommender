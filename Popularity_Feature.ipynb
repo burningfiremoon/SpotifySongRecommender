{
 "cells": [
  {
   "cell_type": "code",
   "execution_count": null,
   "id": "273abbb2",
   "metadata": {},
   "outputs": [],
   "source": [
    "import pandas as pd\n",
    "import boto3\n",
    "import os\n",
    "from dotenv import load_dotenv\n",
    "import base64\n",
    "import urllib.parse\n",
    "load_dotenv()\n",
    "import utilities"
   ]
  },
  {
   "cell_type": "code",
   "execution_count": null,
   "id": "a21c153c-029b-46fc-9198-dd3cbc90d778",
   "metadata": {},
   "outputs": [],
   "source": [
    "\n",
    "\n",
    "clientID = os.getenv('CLIENT_ID')\n",
    "clientSecret = os.getenv('CLIENT_SECRET')\n",
    "redirect_uri = os.getenv('REDIRECT_URI')\n",
    "\n",
    "song_data = pd.read_csv('models/mainFile')\n",
    "\n",
    "if clientID is not None and clientSecret is not None and redirect_uri is not None:\n",
    "    print('It worked')\n",
    "song_data.shape"
   ]
  },
  {
   "cell_type": "code",
   "execution_count": null,
   "id": "7b65a8cd",
   "metadata": {},
   "outputs": [],
   "source": [
    "x = test2.dropna()\n",
    "test2.shape"
   ]
  },
  {
   "cell_type": "code",
   "execution_count": null,
   "id": "59760c6d",
   "metadata": {},
   "outputs": [],
   "source": [
    "utilities.concatinate_files(csv1='models/songData_0.004', csv2='models/songData_0.5')"
   ]
  },
  {
   "cell_type": "code",
   "execution_count": null,
   "id": "3b200ef3",
   "metadata": {},
   "outputs": [],
   "source": [
    "song_data.columns"
   ]
  },
  {
   "cell_type": "code",
   "execution_count": null,
   "id": "ec8a7f0f",
   "metadata": {},
   "outputs": [],
   "source": []
  },
  {
   "cell_type": "code",
   "execution_count": null,
   "id": "caf5f335",
   "metadata": {},
   "outputs": [],
   "source": [
    "song_data\n",
    "song_data.shape"
   ]
  },
  {
   "cell_type": "code",
   "execution_count": null,
   "id": "8b29753d",
   "metadata": {},
   "outputs": [],
   "source": [
    "x = song_data.dropna()\n",
    "x.shape\n"
   ]
  },
  {
   "cell_type": "code",
   "execution_count": null,
   "id": "dcdac557",
   "metadata": {},
   "outputs": [],
   "source": [
    "temp = song_data[545001:560000]\n",
    "print(temp.shape)"
   ]
  },
  {
   "cell_type": "code",
   "execution_count": null,
   "id": "8da1a2a2",
   "metadata": {},
   "outputs": [],
   "source": [
    "utilities.dump_to_csv(fileName=\"test\", df=songIDs)"
   ]
  },
  {
   "cell_type": "code",
   "execution_count": null,
   "id": "162601e1",
   "metadata": {},
   "outputs": [],
   "source": [
    "def getTracks(_songIDs: [str]) -> [{}]:\n",
    "    get_token()\n",
    "    \n",
    "    songs = sp.tracks(tracks=_songIDs)\n",
    "    songs_data = []\n",
    "\n",
    "    for track in songs['tracks']:\n",
    "        song_info = {\n",
    "            'name': track['name'],\n",
    "            'id': track['id'],\n",
    "            'popularity': track['popularity']\n",
    "        }\n",
    "        songs_data.append(song_info)\n",
    "\n",
    "    return songs_data"
   ]
  },
  {
   "cell_type": "code",
   "execution_count": null,
   "id": "34437b9f",
   "metadata": {},
   "outputs": [],
   "source": [
    "## first 100 test\n"
   ]
  },
  {
   "cell_type": "code",
   "execution_count": null,
   "id": "83154d72",
   "metadata": {},
   "outputs": [],
   "source": [
    "# Getting Authorization code\n",
    "auth_url = \"https://accounts.spotify.com/authorize\"\n",
    "params = {\n",
    "    \"response_type\": 'code',\n",
    "    \"client_id\": clientID,\n",
    "    \"redirect_uri\": redirect_uri,\n",
    "}\n",
    "\n",
    "query = urllib.parse.urlencode(params)\n",
    "print(f\"{auth_url}?{query}\")"
   ]
  },
  {
   "cell_type": "code",
   "execution_count": null,
   "id": "b5014140",
   "metadata": {},
   "outputs": [],
   "source": [
    "# Getting Access token\n",
    "\n",
    "credentials = f\"{clientID}:{clientSecret}\"\n",
    "b64_credentials = base64.b64encode(credentials.encode()).decode()\n",
    "\n",
    "token_url = \"https://accounts.spotify.com/api/token\"\n",
    "headers = {\n",
    "    \"Authorization\": f\"Basic {b64_credentials}\",\n",
    "    \"Content-Type\": f\"application/x-www-form-urlencoded\"\n",
    "}\n",
    "\n",
    "data = {\n",
    "    \"grant_type\": \"client_\"\n",
    "}\n"
   ]
  }
 ],
 "metadata": {
  "kernelspec": {
   "display_name": ".venv",
   "language": "python",
   "name": "python3"
  },
  "language_info": {
   "codemirror_mode": {
    "name": "ipython",
    "version": 3
   },
   "file_extension": ".py",
   "mimetype": "text/x-python",
   "name": "python",
   "nbconvert_exporter": "python",
   "pygments_lexer": "ipython3",
   "version": "3.11.9"
  }
 },
 "nbformat": 4,
 "nbformat_minor": 5
}
