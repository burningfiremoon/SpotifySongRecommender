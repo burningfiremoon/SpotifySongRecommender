{
 "cells": [
  {
   "cell_type": "code",
   "execution_count": 12,
   "id": "a21c153c-029b-46fc-9198-dd3cbc90d778",
   "metadata": {},
   "outputs": [
    {
     "name": "stdout",
     "output_type": "stream",
     "text": [
      "It worked\n"
     ]
    }
   ],
   "source": [
    "import pandas as pd\n",
    "import boto3\n",
    "import os\n",
    "from dotenv import load_dotenv\n",
    "import base64\n",
    "import urllib.parse\n",
    "load_dotenv()\n",
    "\n",
    "clientID = os.getenv('CLIENT_ID')\n",
    "clientSecret = os.getenv('CLIENT_SECRET')\n",
    "redirect_uri = os.getenv('REDIRECT_URI')\n",
    "\n",
    "if clientID is not None and clientSecret is not None and redirect_uri is not None:\n",
    "    print('It worked')"
   ]
  },
  {
   "cell_type": "code",
   "execution_count": null,
   "id": "83154d72",
   "metadata": {},
   "outputs": [
    {
     "name": "stdout",
     "output_type": "stream",
     "text": [
      "https://accounts.spotify.com/authorize?response_type=code&client_id=7993a5eeebb94bb29a8b24909f6d91fb&redirect_uri=http%3A%2F%2F127.0.0.1%3A5000\n"
     ]
    }
   ],
   "source": [
    "# Getting Authorization code\n",
    "auth_url = \"https://accounts.spotify.com/authorize\"\n",
    "params = {\n",
    "    \"response_type\": 'code',\n",
    "    \"client_id\": clientID,\n",
    "    \"redirect_uri\": redirect_uri,\n",
    "}\n",
    "\n",
    "query = urllib.parse.urlencode(params)\n",
    "print(f\"{auth_url}?{query}\")"
   ]
  },
  {
   "cell_type": "code",
   "execution_count": null,
   "id": "b5014140",
   "metadata": {},
   "outputs": [],
   "source": [
    "# Getting Access token\n",
    "\n",
    "credentials = f\"{clientID}:{clientSecret}\"\n",
    "b64_credentials = base64.b64encode(credentials.encode()).decode()\n",
    "\n",
    "token_url = \"https://accounts.spotify.com/api/token\"\n",
    "headers = {\n",
    "    \"Authorization\": f\"Basic {b64_credentials}\",\n",
    "    \"Content-Type\": f\"application/x-www-form-urlencoded\"\n",
    "}\n",
    "\n",
    "data = {\n",
    "    \"grant_type\": \"client_\"\n",
    "}\n"
   ]
  }
 ],
 "metadata": {
  "kernelspec": {
   "display_name": ".venv",
   "language": "python",
   "name": "python3"
  },
  "language_info": {
   "codemirror_mode": {
    "name": "ipython",
    "version": 3
   },
   "file_extension": ".py",
   "mimetype": "text/x-python",
   "name": "python",
   "nbconvert_exporter": "python",
   "pygments_lexer": "ipython3",
   "version": "3.11.9"
  }
 },
 "nbformat": 4,
 "nbformat_minor": 5
}
