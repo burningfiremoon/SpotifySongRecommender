{
 "cells": [
  {
   "cell_type": "code",
   "execution_count": 1,
   "id": "d77aaf09-9fcc-48cc-9da2-a60a76833817",
   "metadata": {},
   "outputs": [],
   "source": [
    "import pandas as pd\n",
    "import boto3\n",
    "import math\n"
   ]
  },
  {
   "cell_type": "code",
   "execution_count": 2,
   "id": "c0faf249-0825-40ed-a48b-52b52f3e3a1a",
   "metadata": {},
   "outputs": [
    {
     "name": "stdout",
     "output_type": "stream",
     "text": [
      "(236988, 18)\n",
      "Index(['artist', 'song', 'emotion', 'variance', 'Genre', 'Release Date', 'Key',\n",
      "       'Tempo', 'Loudness', 'Explicit', 'Popularity', 'Energy', 'Danceability',\n",
      "       'Positiveness', 'Speechiness', 'Liveness', 'Acousticness',\n",
      "       'Instrumentalness'],\n",
      "      dtype='object')\n"
     ]
    },
    {
     "data": {
      "text/html": [
       "<div>\n",
       "<style scoped>\n",
       "    .dataframe tbody tr th:only-of-type {\n",
       "        vertical-align: middle;\n",
       "    }\n",
       "\n",
       "    .dataframe tbody tr th {\n",
       "        vertical-align: top;\n",
       "    }\n",
       "\n",
       "    .dataframe thead th {\n",
       "        text-align: right;\n",
       "    }\n",
       "</style>\n",
       "<table border=\"1\" class=\"dataframe\">\n",
       "  <thead>\n",
       "    <tr style=\"text-align: right;\">\n",
       "      <th></th>\n",
       "      <th>artist</th>\n",
       "      <th>song</th>\n",
       "      <th>emotion</th>\n",
       "      <th>variance</th>\n",
       "      <th>Genre</th>\n",
       "      <th>Release Date</th>\n",
       "      <th>Key</th>\n",
       "      <th>Tempo</th>\n",
       "      <th>Loudness</th>\n",
       "      <th>Explicit</th>\n",
       "      <th>Popularity</th>\n",
       "      <th>Energy</th>\n",
       "      <th>Danceability</th>\n",
       "      <th>Positiveness</th>\n",
       "      <th>Speechiness</th>\n",
       "      <th>Liveness</th>\n",
       "      <th>Acousticness</th>\n",
       "      <th>Instrumentalness</th>\n",
       "    </tr>\n",
       "  </thead>\n",
       "  <tbody>\n",
       "    <tr>\n",
       "      <th>0</th>\n",
       "      <td>ABBA</td>\n",
       "      <td>She's My Kind Of Girl</td>\n",
       "      <td>joy</td>\n",
       "      <td>0.447619</td>\n",
       "      <td>pop</td>\n",
       "      <td>2014</td>\n",
       "      <td>F Maj</td>\n",
       "      <td>128</td>\n",
       "      <td>-6.00</td>\n",
       "      <td>No</td>\n",
       "      <td>31</td>\n",
       "      <td>78</td>\n",
       "      <td>56</td>\n",
       "      <td>60</td>\n",
       "      <td>3</td>\n",
       "      <td>31</td>\n",
       "      <td>7</td>\n",
       "      <td>0</td>\n",
       "    </tr>\n",
       "    <tr>\n",
       "      <th>1</th>\n",
       "      <td>ABBA</td>\n",
       "      <td>Andante, Andante</td>\n",
       "      <td>love</td>\n",
       "      <td>0.202222</td>\n",
       "      <td>pop</td>\n",
       "      <td>1980</td>\n",
       "      <td>A# Maj</td>\n",
       "      <td>102</td>\n",
       "      <td>-10.72</td>\n",
       "      <td>No</td>\n",
       "      <td>59</td>\n",
       "      <td>36</td>\n",
       "      <td>52</td>\n",
       "      <td>38</td>\n",
       "      <td>2</td>\n",
       "      <td>7</td>\n",
       "      <td>68</td>\n",
       "      <td>0</td>\n",
       "    </tr>\n",
       "    <tr>\n",
       "      <th>2</th>\n",
       "      <td>ABBA</td>\n",
       "      <td>As Good As New</td>\n",
       "      <td>sadness</td>\n",
       "      <td>0.300881</td>\n",
       "      <td>pop</td>\n",
       "      <td>1979</td>\n",
       "      <td>E Maj</td>\n",
       "      <td>139</td>\n",
       "      <td>-5.70</td>\n",
       "      <td>No</td>\n",
       "      <td>50</td>\n",
       "      <td>78</td>\n",
       "      <td>85</td>\n",
       "      <td>97</td>\n",
       "      <td>3</td>\n",
       "      <td>8</td>\n",
       "      <td>20</td>\n",
       "      <td>2</td>\n",
       "    </tr>\n",
       "  </tbody>\n",
       "</table>\n",
       "</div>"
      ],
      "text/plain": [
       "  artist                   song  emotion  variance Genre  Release Date  \\\n",
       "0   ABBA  She's My Kind Of Girl      joy  0.447619   pop          2014   \n",
       "1   ABBA       Andante, Andante     love  0.202222   pop          1980   \n",
       "2   ABBA         As Good As New  sadness  0.300881   pop          1979   \n",
       "\n",
       "      Key  Tempo  Loudness Explicit  Popularity  Energy  Danceability  \\\n",
       "0   F Maj    128     -6.00       No          31      78            56   \n",
       "1  A# Maj    102    -10.72       No          59      36            52   \n",
       "2   E Maj    139     -5.70       No          50      78            85   \n",
       "\n",
       "   Positiveness  Speechiness  Liveness  Acousticness  Instrumentalness  \n",
       "0            60            3        31             7                 0  \n",
       "1            38            2         7            68                 0  \n",
       "2            97            3         8            20                 2  "
      ]
     },
     "execution_count": 2,
     "metadata": {},
     "output_type": "execute_result"
    }
   ],
   "source": [
    "s3 = boto3.resource('s3')\n",
    "\n",
    "s3_obj = s3.Bucket(\"spotify-song-recommender-data\").Object('light_spotify_dataset.csv').get()\n",
    "\n",
    "song_data = pd.read_csv(s3_obj['Body'])\n",
    "print(song_data.shape)\n",
    "print(song_data.columns)\n",
    "song_data.head(3)\n"
   ]
  },
  {
   "cell_type": "code",
   "execution_count": 3,
   "id": "e578ffc4-5cfe-455b-b30a-f2c5e79d200c",
   "metadata": {},
   "outputs": [
    {
     "name": "stdout",
     "output_type": "stream",
     "text": [
      "[0 1]\n"
     ]
    }
   ],
   "source": [
    "# turning Explicit into a binary\n",
    "explicitDict = {\n",
    "    'No': 0,\n",
    "    'Yes': 1,\n",
    "}\n",
    "pd.set_option('future.no_silent_downcasting', True)\n",
    "song_data['Explicit'] = song_data['Explicit'].replace(explicitDict)\n",
    "print(song_data['Explicit'].unique())"
   ]
  },
  {
   "cell_type": "code",
   "execution_count": 4,
   "id": "d80e1db7-5bb2-400d-b831-d6bd266f1a0d",
   "metadata": {},
   "outputs": [],
   "source": [
    "from sklearn.preprocessing import StandardScaler\n",
    "X = song_data.drop('artist', axis=1).drop('song', axis=1).drop('emotion', axis=1).drop('Key', axis=1).drop('Genre',axis=1)\n",
    "# scaler = StandardScaler()\n",
    "# X = scaler.fit_transform(X)\n",
    "X = StandardScaler().fit_transform(X)"
   ]
  },
  {
   "cell_type": "code",
   "execution_count": 5,
   "id": "d44b801c-8722-49a1-aacf-93773d55bfc2",
   "metadata": {},
   "outputs": [],
   "source": [
    "from sklearn.cluster import KMeans\n",
    "\n",
    "kmeans = KMeans(init=\"k-means++\", n_clusters = 344, n_init=4, random_state=1)\n",
    "kmeans.fit(X)\n",
    "song_data['cluster'] = kmeans.labels_"
   ]
  },
  {
   "cell_type": "code",
   "execution_count": 6,
   "id": "c3c7738e-1b06-4296-94df-76b602fdc8cf",
   "metadata": {
    "scrolled": true
   },
   "outputs": [
    {
     "name": "stdout",
     "output_type": "stream",
     "text": [
      "\n",
      "Cluster #200\n",
      " - I Am The City\n",
      " - Hey Darling\n",
      " - Mercy, Mercy\n",
      " - Just Another Woman\n",
      " - Clear Across America Tonight\n",
      "\n",
      "Cluster #201\n",
      " - Devil's Food\n",
      " - The Pause Of Mr. Claus\n",
      " - Come To The Supermarket\n",
      " - I'm The Pied Piper\n",
      " - Magic Transistor Radio\n",
      "\n",
      "Cluster #202\n",
      " - Sippin' On Sunshine\n",
      " - Make You Happy\n",
      " - Beautiful Dream\n",
      " - I Wanna Be Loved\n",
      " - I'm Alright\n",
      "\n",
      "Cluster #203\n",
      " - Cecilia\n",
      " - I'm Ready\n",
      " - Luv Lies\n",
      " - Road Runner\n",
      " - Sedona Sunrise\n",
      "\n",
      "Cluster #204\n",
      " - Steve Polychronopolous\n",
      " - The Adventures Of The Cow\n",
      " - Falling In Love\n",
      " - Take It\n",
      " - She Knows\n",
      "\n",
      "Cluster #205\n",
      " - Say (All I Need)\n",
      " - Verge\n",
      " - Best I Could\n",
      " - Don't Forget To Remember\n",
      " - Never Once\n",
      "\n",
      "Cluster #206\n",
      " - Sleigh Ride\n",
      " - Feel Good\n",
      " - Loving Kind\n",
      " - Better To Have Loved\n",
      " - Gorgeous\n",
      "\n",
      "Cluster #207\n",
      " - Fly\n",
      " - Joy To The World\n",
      " - Come Fly With Me\n",
      " - One Good Love\n",
      " - Dreaming\n",
      "\n",
      "Cluster #208\n",
      " - Dancing Queen\n",
      " - I Should Have Known Better\n",
      " - Smoke 2 Joints\n",
      " - The Passenger\n",
      " - It's So Easy (To Fall In Love)\n",
      "\n",
      "Cluster #209\n",
      " - Pick Me\n",
      " - Best Friend\n",
      " - Special Feeling\n",
      " - Lounar\n",
      " - BiG TRuCk DrivEr\n"
     ]
    }
   ],
   "source": [
    "for cluster in sorted(song_data['cluster'].unique())[200:210]:\n",
    "    print(f\"\\nCluster #{cluster}\")\n",
    "    songsInCluster = song_data[song_data['cluster'] == cluster].head(5)\n",
    "    for songName in songsInCluster['song']:\n",
    "        print(f\" - {songName}\")"
   ]
  },
  {
   "cell_type": "code",
   "execution_count": 7,
   "id": "008347c2-2fa2-49b2-bee9-01b66289e0d6",
   "metadata": {},
   "outputs": [
    {
     "name": "stdout",
     "output_type": "stream",
     "text": [
      "     artist             song emotion  variance Genre  Release Date     Key  \\\n",
      "4456  Drake  Best I Ever Had     joy  0.411265   rap          2024  C# Maj   \n",
      "\n",
      "      Tempo  Loudness Explicit  Popularity  Energy  Danceability  \\\n",
      "4456    162     -2.18        1          80      92            40   \n",
      "\n",
      "      Positiveness  Speechiness  Liveness  Acousticness  Instrumentalness  \\\n",
      "4456            56           38        13            19                 0   \n",
      "\n",
      "      cluster  \n",
      "4456      339  \n",
      "[72]\n"
     ]
    },
    {
     "name": "stderr",
     "output_type": "stream",
     "text": [
      "C:\\Users\\charl\\Desktop\\programming\\SpotifySongRecommender\\SpotifySongRecommender\\.venv\\Lib\\site-packages\\sklearn\\utils\\validation.py:2732: UserWarning: X has feature names, but KMeans was fitted without feature names\n",
      "  warnings.warn(\n"
     ]
    }
   ],
   "source": [
    "datapoint = song_data.iloc[[4456]]\n",
    "filteredDatapoint = datapoint.drop('artist', axis=1).drop('song', axis=1).drop('emotion', axis=1).drop('Key', axis=1).drop('Genre',axis=1).drop('cluster', axis=1)\n",
    "print(datapoint)\n",
    "test = kmeans.predict(filteredDatapoint)\n",
    "print(test)"
   ]
  },
  {
   "cell_type": "code",
   "execution_count": 8,
   "id": "8e4a5768-4ce1-4363-acdf-139775d5af91",
   "metadata": {},
   "outputs": [
    {
     "name": "stdout",
     "output_type": "stream",
     "text": [
      "                    artist                  song   emotion  variance  \\\n",
      "57867              theMIND     Animated Ambition       joy  0.833514   \n",
      "58357  mike. fka mike stud          Captain Hook       joy  0.833514   \n",
      "58821        iLoveMakonnen               Tuesday       joy  0.833514   \n",
      "58824        iLoveMakonnen               No Maam       joy  0.833514   \n",
      "58827        iLoveMakonnen  Down 4 So Long Remix  surprise  0.833514   \n",
      "\n",
      "                             Genre  Release Date     Key  Tempo  Loudness  \\\n",
      "57867  Ghetto Sage,Unknown,Unknown          2021   G min    149     -5.19   \n",
      "58357      Unknown,Unknown,Unknown          2020  A# min    164     -5.00   \n",
      "58821                         soul          2014   C Maj    140     -6.00   \n",
      "58824                         soul          2014   C Maj    140     -6.00   \n",
      "58827                         soul          2014   C Maj    140     -6.00   \n",
      "\n",
      "      Explicit  Popularity  Energy  Danceability  Positiveness  Speechiness  \\\n",
      "57867        1          77      73            84            58           19   \n",
      "58357        1          65      63            86            55           29   \n",
      "58821        1          62      66            77            47           21   \n",
      "58824        1          63      66            77            47           21   \n",
      "58827        1          63      66            77            47           21   \n",
      "\n",
      "       Liveness  Acousticness  Instrumentalness  cluster  \n",
      "57867        14             1                 0       72  \n",
      "58357        28             1                 0       72  \n",
      "58821        10            22                 0       72  \n",
      "58824        10            22                 0       72  \n",
      "58827        10            22                 0       72  \n"
     ]
    }
   ],
   "source": [
    "print(song_data[song_data['cluster'] == test[0]].head(5))"
   ]
  },
  {
   "cell_type": "code",
   "execution_count": 12,
   "id": "d261df44-7617-4102-adc5-d7ea4f59a8ea",
   "metadata": {},
   "outputs": [
    {
     "data": {
      "text/plain": [
       "['./models/test_model_joblib']"
      ]
     },
     "execution_count": 12,
     "metadata": {},
     "output_type": "execute_result"
    }
   ],
   "source": [
    "import joblib\n",
    "# exporting model\n",
    "joblib.dump(kmeans, './models/test_model_joblib')"
   ]
  },
  {
   "cell_type": "code",
   "execution_count": 13,
   "id": "14996fe9-42d7-4d38-88d4-815737343fd9",
   "metadata": {},
   "outputs": [],
   "source": [
    "# importing model\n",
    "model = joblib.load('./models/test_model_joblib')"
   ]
  },
  {
   "cell_type": "code",
   "execution_count": 11,
   "id": "183db37b-4ea4-49bb-9579-1dc6c36cf64c",
   "metadata": {},
   "outputs": [
    {
     "name": "stdout",
     "output_type": "stream",
     "text": [
      "[72]\n"
     ]
    },
    {
     "name": "stderr",
     "output_type": "stream",
     "text": [
      "C:\\Users\\charl\\Desktop\\programming\\SpotifySongRecommender\\SpotifySongRecommender\\.venv\\Lib\\site-packages\\sklearn\\utils\\validation.py:2732: UserWarning: X has feature names, but KMeans was fitted without feature names\n",
      "  warnings.warn(\n"
     ]
    }
   ],
   "source": [
    "test = model.predict(filteredDatapoint)\n",
    "print(test)"
   ]
  }
 ],
 "metadata": {
  "kernelspec": {
   "display_name": "Python 3 (ipykernel)",
   "language": "python",
   "name": "python3"
  },
  "language_info": {
   "codemirror_mode": {
    "name": "ipython",
    "version": 3
   },
   "file_extension": ".py",
   "mimetype": "text/x-python",
   "name": "python",
   "nbconvert_exporter": "python",
   "pygments_lexer": "ipython3",
   "version": "3.11.9"
  }
 },
 "nbformat": 4,
 "nbformat_minor": 5
}
