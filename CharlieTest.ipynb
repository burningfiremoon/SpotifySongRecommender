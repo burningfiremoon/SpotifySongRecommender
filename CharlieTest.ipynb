{
 "cells": [
  {
   "cell_type": "code",
   "execution_count": 1,
   "id": "d77aaf09-9fcc-48cc-9da2-a60a76833817",
   "metadata": {},
   "outputs": [],
   "source": [
    "import pandas as pd\n",
    "import boto3\n",
    "import math\n"
   ]
  },
  {
   "cell_type": "code",
   "execution_count": 2,
   "id": "c0faf249-0825-40ed-a48b-52b52f3e3a1a",
   "metadata": {},
   "outputs": [
    {
     "name": "stdout",
     "output_type": "stream",
     "text": [
      "(236988, 18)\n",
      "Index(['artist', 'song', 'emotion', 'variance', 'Genre', 'Release Date', 'Key',\n",
      "       'Tempo', 'Loudness', 'Explicit', 'Popularity', 'Energy', 'Danceability',\n",
      "       'Positiveness', 'Speechiness', 'Liveness', 'Acousticness',\n",
      "       'Instrumentalness'],\n",
      "      dtype='object')\n"
     ]
    },
    {
     "data": {
      "text/html": [
       "<div>\n",
       "<style scoped>\n",
       "    .dataframe tbody tr th:only-of-type {\n",
       "        vertical-align: middle;\n",
       "    }\n",
       "\n",
       "    .dataframe tbody tr th {\n",
       "        vertical-align: top;\n",
       "    }\n",
       "\n",
       "    .dataframe thead th {\n",
       "        text-align: right;\n",
       "    }\n",
       "</style>\n",
       "<table border=\"1\" class=\"dataframe\">\n",
       "  <thead>\n",
       "    <tr style=\"text-align: right;\">\n",
       "      <th></th>\n",
       "      <th>artist</th>\n",
       "      <th>song</th>\n",
       "      <th>emotion</th>\n",
       "      <th>variance</th>\n",
       "      <th>Genre</th>\n",
       "      <th>Release Date</th>\n",
       "      <th>Key</th>\n",
       "      <th>Tempo</th>\n",
       "      <th>Loudness</th>\n",
       "      <th>Explicit</th>\n",
       "      <th>Popularity</th>\n",
       "      <th>Energy</th>\n",
       "      <th>Danceability</th>\n",
       "      <th>Positiveness</th>\n",
       "      <th>Speechiness</th>\n",
       "      <th>Liveness</th>\n",
       "      <th>Acousticness</th>\n",
       "      <th>Instrumentalness</th>\n",
       "    </tr>\n",
       "  </thead>\n",
       "  <tbody>\n",
       "    <tr>\n",
       "      <th>0</th>\n",
       "      <td>ABBA</td>\n",
       "      <td>She's My Kind Of Girl</td>\n",
       "      <td>joy</td>\n",
       "      <td>0.447619</td>\n",
       "      <td>pop</td>\n",
       "      <td>2014</td>\n",
       "      <td>F Maj</td>\n",
       "      <td>128</td>\n",
       "      <td>-6.00</td>\n",
       "      <td>No</td>\n",
       "      <td>31</td>\n",
       "      <td>78</td>\n",
       "      <td>56</td>\n",
       "      <td>60</td>\n",
       "      <td>3</td>\n",
       "      <td>31</td>\n",
       "      <td>7</td>\n",
       "      <td>0</td>\n",
       "    </tr>\n",
       "    <tr>\n",
       "      <th>1</th>\n",
       "      <td>ABBA</td>\n",
       "      <td>Andante, Andante</td>\n",
       "      <td>love</td>\n",
       "      <td>0.202222</td>\n",
       "      <td>pop</td>\n",
       "      <td>1980</td>\n",
       "      <td>A# Maj</td>\n",
       "      <td>102</td>\n",
       "      <td>-10.72</td>\n",
       "      <td>No</td>\n",
       "      <td>59</td>\n",
       "      <td>36</td>\n",
       "      <td>52</td>\n",
       "      <td>38</td>\n",
       "      <td>2</td>\n",
       "      <td>7</td>\n",
       "      <td>68</td>\n",
       "      <td>0</td>\n",
       "    </tr>\n",
       "    <tr>\n",
       "      <th>2</th>\n",
       "      <td>ABBA</td>\n",
       "      <td>As Good As New</td>\n",
       "      <td>sadness</td>\n",
       "      <td>0.300881</td>\n",
       "      <td>pop</td>\n",
       "      <td>1979</td>\n",
       "      <td>E Maj</td>\n",
       "      <td>139</td>\n",
       "      <td>-5.70</td>\n",
       "      <td>No</td>\n",
       "      <td>50</td>\n",
       "      <td>78</td>\n",
       "      <td>85</td>\n",
       "      <td>97</td>\n",
       "      <td>3</td>\n",
       "      <td>8</td>\n",
       "      <td>20</td>\n",
       "      <td>2</td>\n",
       "    </tr>\n",
       "  </tbody>\n",
       "</table>\n",
       "</div>"
      ],
      "text/plain": [
       "  artist                   song  emotion  variance Genre  Release Date  \\\n",
       "0   ABBA  She's My Kind Of Girl      joy  0.447619   pop          2014   \n",
       "1   ABBA       Andante, Andante     love  0.202222   pop          1980   \n",
       "2   ABBA         As Good As New  sadness  0.300881   pop          1979   \n",
       "\n",
       "      Key  Tempo  Loudness Explicit  Popularity  Energy  Danceability  \\\n",
       "0   F Maj    128     -6.00       No          31      78            56   \n",
       "1  A# Maj    102    -10.72       No          59      36            52   \n",
       "2   E Maj    139     -5.70       No          50      78            85   \n",
       "\n",
       "   Positiveness  Speechiness  Liveness  Acousticness  Instrumentalness  \n",
       "0            60            3        31             7                 0  \n",
       "1            38            2         7            68                 0  \n",
       "2            97            3         8            20                 2  "
      ]
     },
     "execution_count": 2,
     "metadata": {},
     "output_type": "execute_result"
    }
   ],
   "source": [
    "s3 = boto3.resource('s3')\n",
    "\n",
    "s3_obj = s3.Bucket(\"spotify-song-recommender-data\").Object('light_spotify_dataset.csv').get()\n",
    "\n",
    "song_data = pd.read_csv(s3_obj['Body'])\n",
    "print(song_data.shape)\n",
    "print(song_data.columns)\n",
    "song_data.head(3)\n"
   ]
  },
  {
   "cell_type": "code",
   "execution_count": 3,
   "id": "d0217c10-dd97-436d-a0ba-c19ba5d1fe90",
   "metadata": {},
   "outputs": [
    {
     "name": "stdout",
     "output_type": "stream",
     "text": [
      "344.2295745574456\n"
     ]
    }
   ],
   "source": [
    "print(math.sqrt(song_data.shape[0]/2))"
   ]
  },
  {
   "cell_type": "code",
   "execution_count": 4,
   "id": "a8eac0b2-2b63-41d2-8399-c11e09d41ef8",
   "metadata": {},
   "outputs": [
    {
     "name": "stdout",
     "output_type": "stream",
     "text": [
      "['No' 'Yes']\n"
     ]
    }
   ],
   "source": [
    "print(song_data['Explicit'].unique())"
   ]
  },
  {
   "cell_type": "code",
   "execution_count": 5,
   "id": "e578ffc4-5cfe-455b-b30a-f2c5e79d200c",
   "metadata": {},
   "outputs": [
    {
     "name": "stdout",
     "output_type": "stream",
     "text": [
      "[0 1]\n"
     ]
    }
   ],
   "source": [
    "# turning Explicit into a binary\n",
    "explicitDict = {\n",
    "    'No': 0,\n",
    "    'Yes': 1,\n",
    "}\n",
    "pd.set_option('future.no_silent_downcasting', True)\n",
    "song_data['Explicit'] = song_data['Explicit'].replace(explicitDict)\n",
    "print(song_data['Explicit'].unique())"
   ]
  },
  {
   "cell_type": "code",
   "execution_count": 6,
   "id": "d80e1db7-5bb2-400d-b831-d6bd266f1a0d",
   "metadata": {},
   "outputs": [],
   "source": [
    "X = song_data.drop('artist', axis=1).drop('song', axis=1).drop('emotion', axis=1).drop('Key', axis=1).drop('Genre',axis=1)"
   ]
  },
  {
   "cell_type": "code",
   "execution_count": 7,
   "id": "d44b801c-8722-49a1-aacf-93773d55bfc2",
   "metadata": {},
   "outputs": [],
   "source": [
    "from sklearn.cluster import KMeans\n",
    "\n",
    "kmeans = KMeans(init=\"k-means++\", n_clusters = 344, n_init=4, random_state=1)\n",
    "kmeans.fit(X)\n",
    "song_data['cluster'] = kmeans.labels_"
   ]
  },
  {
   "cell_type": "code",
   "execution_count": 8,
   "id": "81a74138-17ac-48f1-9893-cdb3944b0296",
   "metadata": {},
   "outputs": [
    {
     "name": "stdout",
     "output_type": "stream",
     "text": [
      "['pop' 'comedy' 'rock' ... '90s,dance,House' 'sad,Love,slow'\n",
      " 'noise rock,Unknown,Unknown']\n"
     ]
    }
   ],
   "source": [
    "print(song_data['Genre'].unique())"
   ]
  },
  {
   "cell_type": "code",
   "execution_count": 9,
   "id": "c3c7738e-1b06-4296-94df-76b602fdc8cf",
   "metadata": {},
   "outputs": [
    {
     "name": "stdout",
     "output_type": "stream",
     "text": [
      "\n",
      "Cluster #200\n",
      " - Fire\n",
      " - Lonely Road\n",
      " - Hold Ya Headz High\n",
      " - On Deck\n",
      " - Spin\n",
      "\n",
      "Cluster #201\n",
      " - His Eye Is On The Sparrow\n",
      " - Islands In The Stream\n",
      " - Turn The Page\n",
      " - Main Chick\n",
      " - O\n",
      "\n",
      "Cluster #202\n",
      " - Gimme Gimme Gimme\n",
      " - SOS\n",
      " - Janie's Got A Gun\n",
      " - Red House\n",
      " - Sweet Emotion\n",
      "\n",
      "Cluster #203\n",
      " - Rock N Roll\n",
      " - I Got The Girl\n",
      " - The Prisoner\n",
      " - Everything You're Not\n",
      " - The Screen Behind The Mirror\n",
      "\n",
      "Cluster #204\n",
      " - Capital Radio One\n",
      " - Every Little Bit Hurts\n",
      " - The Language\n",
      " - Disgusting\n",
      " - Get Free ColeWorld\n",
      "\n",
      "Cluster #205\n",
      " - Can't Let Go\n",
      " - Walking In The Air\n",
      " - I Will Wait For You\n",
      " - Captive\n",
      " - A Foggy Day\n",
      "\n",
      "Cluster #206\n",
      " - Fall To Pieces\n",
      " - You Never Satisfy Me\n",
      " - Eyes On Me\n",
      " - My Destiny\n",
      " - Paint It Black\n",
      "\n",
      "Cluster #207\n",
      " - Seasons Of Wither\n",
      " - Hot Love\n",
      " - Love To Hate\n",
      " - If You Can See Me\n",
      " - Story To Tell\n",
      "\n",
      "Cluster #208\n",
      " - Do I Ever Cross Your Mind?\n",
      " - All By Myself\n",
      " - I Hate You Then I Love You\n",
      " - I Love You Goodbye\n",
      " - After All\n",
      "\n",
      "Cluster #209\n",
      " - Mr. Bake-O\n",
      " - I Will Be\n",
      " - I'll Never Stop Loving You\n",
      " - Calypso\n",
      " - Welcome\n"
     ]
    }
   ],
   "source": [
    "for cluster in sorted(song_data['cluster'].unique())[200:210]:\n",
    "    print(f\"\\nCluster #{cluster}\")\n",
    "    songsInCluster = song_data[song_data['cluster'] == cluster].head(5)\n",
    "    for songName in songsInCluster['song']:\n",
    "        print(f\" - {songName}\")"
   ]
  },
  {
   "cell_type": "code",
   "execution_count": 12,
   "id": "008347c2-2fa2-49b2-bee9-01b66289e0d6",
   "metadata": {},
   "outputs": [
    {
     "name": "stdout",
     "output_type": "stream",
     "text": [
      "      variance  Release Date  Tempo  Loudness Explicit  Popularity  Energy  \\\n",
      "4456  0.411265          2024    162     -2.18        1          80      92   \n",
      "\n",
      "      Danceability  Positiveness  Speechiness  Liveness  Acousticness  \\\n",
      "4456            40            56           38        13            19   \n",
      "\n",
      "      Instrumentalness  \n",
      "4456                 0  \n",
      "     artist             song emotion  variance Genre  Release Date     Key  \\\n",
      "4456  Drake  Best I Ever Had     joy  0.411265   rap          2024  C# Maj   \n",
      "\n",
      "      Tempo  Loudness Explicit  Popularity  Energy  Danceability  \\\n",
      "4456    162     -2.18        1          80      92            40   \n",
      "\n",
      "      Positiveness  Speechiness  Liveness  Acousticness  Instrumentalness  \\\n",
      "4456            56           38        13            19                 0   \n",
      "\n",
      "      cluster  \n",
      "4456       47  \n",
      "[47]\n"
     ]
    }
   ],
   "source": [
    "datapoint = song_data.iloc[[4456]]\n",
    "filteredDatapoint = datapoint.drop('artist', axis=1).drop('song', axis=1).drop('emotion', axis=1).drop('Key', axis=1).drop('Genre',axis=1).drop('cluster', axis=1)\n",
    "print(filteredDatapoint)\n",
    "print(datapoint)\n",
    "test = kmeans.predict(filteredDatapoint)\n",
    "print(test)"
   ]
  },
  {
   "cell_type": "code",
   "execution_count": 13,
   "id": "8e4a5768-4ce1-4363-acdf-139775d5af91",
   "metadata": {},
   "outputs": [
    {
     "name": "stdout",
     "output_type": "stream",
     "text": [
      "           artist             song  emotion  variance    Genre  Release Date  \\\n",
      "2690  Chris Brown           Erased  sadness  0.136596  hip-hop          2007   \n",
      "2731  Chris Brown        Kiss Kiss    anger  0.104077  hip-hop          2007   \n",
      "4456        Drake  Best I Ever Had      joy  0.411265      rap          2024   \n",
      "8036     Ice Cube   Hood Mentality    anger -0.071877      rap          2008   \n",
      "8789       J Cole       Cole World      joy  0.049735      rap          2011   \n",
      "\n",
      "         Key  Tempo  Loudness Explicit  Popularity  Energy  Danceability  \\\n",
      "2690  A# min    140     -3.39        0          74      66            73   \n",
      "2731  A# min    140     -3.39        0          74      66            73   \n",
      "4456  C# Maj    162     -2.18        1          80      92            40   \n",
      "8036   A Maj    146     -5.00        1          48      84            76   \n",
      "8789   F min    157     -8.82        1          56      77            70   \n",
      "\n",
      "      Positiveness  Speechiness  Liveness  Acousticness  Instrumentalness  \\\n",
      "2690            55           22         7             5                 0   \n",
      "2731            55           22         7             5                 0   \n",
      "4456            56           38        13            19                 0   \n",
      "8036            50           45         9             2                 0   \n",
      "8789            50           14        10             0                 0   \n",
      "\n",
      "      cluster  \n",
      "2690       47  \n",
      "2731       47  \n",
      "4456       47  \n",
      "8036       47  \n",
      "8789       47  \n"
     ]
    }
   ],
   "source": [
    "print(song_data[song_data['cluster'] == test[0]].head(5))"
   ]
  }
 ],
 "metadata": {
  "kernelspec": {
   "display_name": "Python 3 (ipykernel)",
   "language": "python",
   "name": "python3"
  },
  "language_info": {
   "codemirror_mode": {
    "name": "ipython",
    "version": 3
   },
   "file_extension": ".py",
   "mimetype": "text/x-python",
   "name": "python",
   "nbconvert_exporter": "python",
   "pygments_lexer": "ipython3",
   "version": "3.11.9"
  }
 },
 "nbformat": 4,
 "nbformat_minor": 5
}
