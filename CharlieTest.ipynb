{
 "cells": [
  {
   "cell_type": "code",
   "execution_count": 2,
   "id": "d77aaf09-9fcc-48cc-9da2-a60a76833817",
   "metadata": {},
   "outputs": [],
   "source": [
    "import pandas as pd\n",
    "import boto3\n",
    "import math\n",
    "import utilities\n"
   ]
  },
  {
   "cell_type": "code",
   "execution_count": null,
   "id": "c0faf249-0825-40ed-a48b-52b52f3e3a1a",
   "metadata": {},
   "outputs": [
    {
     "name": "stdout",
     "output_type": "stream",
     "text": [
      "(1204025, 24)\n",
      "Index(['id', 'name', 'album', 'album_id', 'artists', 'artist_ids',\n",
      "       'track_number', 'disc_number', 'explicit', 'danceability', 'energy',\n",
      "       'key', 'loudness', 'mode', 'speechiness', 'acousticness',\n",
      "       'instrumentalness', 'liveness', 'valence', 'tempo', 'duration_ms',\n",
      "       'time_signature', 'year', 'release_date'],\n",
      "      dtype='object')\n"
     ]
    },
    {
     "data": {
      "text/html": [
       "<div>\n",
       "<style scoped>\n",
       "    .dataframe tbody tr th:only-of-type {\n",
       "        vertical-align: middle;\n",
       "    }\n",
       "\n",
       "    .dataframe tbody tr th {\n",
       "        vertical-align: top;\n",
       "    }\n",
       "\n",
       "    .dataframe thead th {\n",
       "        text-align: right;\n",
       "    }\n",
       "</style>\n",
       "<table border=\"1\" class=\"dataframe\">\n",
       "  <thead>\n",
       "    <tr style=\"text-align: right;\">\n",
       "      <th></th>\n",
       "      <th>id</th>\n",
       "      <th>name</th>\n",
       "      <th>album</th>\n",
       "      <th>album_id</th>\n",
       "      <th>artists</th>\n",
       "      <th>artist_ids</th>\n",
       "      <th>track_number</th>\n",
       "      <th>disc_number</th>\n",
       "      <th>explicit</th>\n",
       "      <th>danceability</th>\n",
       "      <th>...</th>\n",
       "      <th>speechiness</th>\n",
       "      <th>acousticness</th>\n",
       "      <th>instrumentalness</th>\n",
       "      <th>liveness</th>\n",
       "      <th>valence</th>\n",
       "      <th>tempo</th>\n",
       "      <th>duration_ms</th>\n",
       "      <th>time_signature</th>\n",
       "      <th>year</th>\n",
       "      <th>release_date</th>\n",
       "    </tr>\n",
       "  </thead>\n",
       "  <tbody>\n",
       "    <tr>\n",
       "      <th>0</th>\n",
       "      <td>7lmeHLHBe4nmXzuXc0HDjk</td>\n",
       "      <td>Testify</td>\n",
       "      <td>The Battle Of Los Angeles</td>\n",
       "      <td>2eia0myWFgoHuttJytCxgX</td>\n",
       "      <td>['Rage Against The Machine']</td>\n",
       "      <td>['2d0hyoQ5ynDBnkvAbJKORj']</td>\n",
       "      <td>1</td>\n",
       "      <td>1</td>\n",
       "      <td>False</td>\n",
       "      <td>0.470</td>\n",
       "      <td>...</td>\n",
       "      <td>0.0727</td>\n",
       "      <td>0.0261</td>\n",
       "      <td>0.000011</td>\n",
       "      <td>0.356</td>\n",
       "      <td>0.503</td>\n",
       "      <td>117.906</td>\n",
       "      <td>210133</td>\n",
       "      <td>4.0</td>\n",
       "      <td>1999</td>\n",
       "      <td>1999-11-02</td>\n",
       "    </tr>\n",
       "    <tr>\n",
       "      <th>1</th>\n",
       "      <td>1wsRitfRRtWyEapl0q22o8</td>\n",
       "      <td>Guerrilla Radio</td>\n",
       "      <td>The Battle Of Los Angeles</td>\n",
       "      <td>2eia0myWFgoHuttJytCxgX</td>\n",
       "      <td>['Rage Against The Machine']</td>\n",
       "      <td>['2d0hyoQ5ynDBnkvAbJKORj']</td>\n",
       "      <td>2</td>\n",
       "      <td>1</td>\n",
       "      <td>True</td>\n",
       "      <td>0.599</td>\n",
       "      <td>...</td>\n",
       "      <td>0.1880</td>\n",
       "      <td>0.0129</td>\n",
       "      <td>0.000071</td>\n",
       "      <td>0.155</td>\n",
       "      <td>0.489</td>\n",
       "      <td>103.680</td>\n",
       "      <td>206200</td>\n",
       "      <td>4.0</td>\n",
       "      <td>1999</td>\n",
       "      <td>1999-11-02</td>\n",
       "    </tr>\n",
       "    <tr>\n",
       "      <th>2</th>\n",
       "      <td>1hR0fIFK2qRG3f3RF70pb7</td>\n",
       "      <td>Calm Like a Bomb</td>\n",
       "      <td>The Battle Of Los Angeles</td>\n",
       "      <td>2eia0myWFgoHuttJytCxgX</td>\n",
       "      <td>['Rage Against The Machine']</td>\n",
       "      <td>['2d0hyoQ5ynDBnkvAbJKORj']</td>\n",
       "      <td>3</td>\n",
       "      <td>1</td>\n",
       "      <td>False</td>\n",
       "      <td>0.315</td>\n",
       "      <td>...</td>\n",
       "      <td>0.4830</td>\n",
       "      <td>0.0234</td>\n",
       "      <td>0.000002</td>\n",
       "      <td>0.122</td>\n",
       "      <td>0.370</td>\n",
       "      <td>149.749</td>\n",
       "      <td>298893</td>\n",
       "      <td>4.0</td>\n",
       "      <td>1999</td>\n",
       "      <td>1999-11-02</td>\n",
       "    </tr>\n",
       "  </tbody>\n",
       "</table>\n",
       "<p>3 rows × 24 columns</p>\n",
       "</div>"
      ],
      "text/plain": [
       "                       id              name                      album  \\\n",
       "0  7lmeHLHBe4nmXzuXc0HDjk           Testify  The Battle Of Los Angeles   \n",
       "1  1wsRitfRRtWyEapl0q22o8   Guerrilla Radio  The Battle Of Los Angeles   \n",
       "2  1hR0fIFK2qRG3f3RF70pb7  Calm Like a Bomb  The Battle Of Los Angeles   \n",
       "\n",
       "                 album_id                       artists  \\\n",
       "0  2eia0myWFgoHuttJytCxgX  ['Rage Against The Machine']   \n",
       "1  2eia0myWFgoHuttJytCxgX  ['Rage Against The Machine']   \n",
       "2  2eia0myWFgoHuttJytCxgX  ['Rage Against The Machine']   \n",
       "\n",
       "                   artist_ids  track_number  disc_number  explicit  \\\n",
       "0  ['2d0hyoQ5ynDBnkvAbJKORj']             1            1     False   \n",
       "1  ['2d0hyoQ5ynDBnkvAbJKORj']             2            1      True   \n",
       "2  ['2d0hyoQ5ynDBnkvAbJKORj']             3            1     False   \n",
       "\n",
       "   danceability  ...  speechiness  acousticness  instrumentalness  liveness  \\\n",
       "0         0.470  ...       0.0727        0.0261          0.000011     0.356   \n",
       "1         0.599  ...       0.1880        0.0129          0.000071     0.155   \n",
       "2         0.315  ...       0.4830        0.0234          0.000002     0.122   \n",
       "\n",
       "   valence    tempo  duration_ms  time_signature  year  release_date  \n",
       "0    0.503  117.906       210133             4.0  1999    1999-11-02  \n",
       "1    0.489  103.680       206200             4.0  1999    1999-11-02  \n",
       "2    0.370  149.749       298893             4.0  1999    1999-11-02  \n",
       "\n",
       "[3 rows x 24 columns]"
      ]
     },
     "execution_count": 3,
     "metadata": {},
     "output_type": "execute_result"
    }
   ],
   "source": [
    "s3 = boto3.resource('s3')\n",
    "\n",
    "s3_obj = s3.Bucket(\"spotify-song-recommender-data\").Object('tracks_features.csv').get()\n",
    "\n",
    "song_data = pd.read_csv(s3_obj['Body'])\n",
    "print(song_data.shape)\n",
    "print(song_data.columns)\n"
   ]
  },
  {
   "cell_type": "code",
   "execution_count": 8,
   "id": "be3d2a70",
   "metadata": {},
   "outputs": [
    {
     "name": "stdout",
     "output_type": "stream",
     "text": [
      "(1204025, 24)\n",
      "Index(['id', 'name', 'album', 'album_id', 'artists', 'artist_ids',\n",
      "       'track_number', 'disc_number', 'explicit', 'danceability', 'energy',\n",
      "       'key', 'loudness', 'mode', 'speechiness', 'acousticness',\n",
      "       'instrumentalness', 'liveness', 'valence', 'tempo', 'duration_ms',\n",
      "       'time_signature', 'year', 'release_date'],\n",
      "      dtype='object')\n",
      "[False  True]\n"
     ]
    }
   ],
   "source": [
    "print(song_data.shape)\n",
    "print(song_data.columns)\n",
    "print(song_data['explicit'].unique())"
   ]
  },
  {
   "cell_type": "code",
   "execution_count": null,
   "id": "e578ffc4-5cfe-455b-b30a-f2c5e79d200c",
   "metadata": {},
   "outputs": [
    {
     "name": "stdout",
     "output_type": "stream",
     "text": [
      "[False  True]\n"
     ]
    }
   ],
   "source": [
    "# turning Explicit into a binary\n",
    "explicitDict = {\n",
    "    False: 0,\n",
    "    True: 1,\n",
    "}\n",
    "pd.set_option('future.no_silent_downcasting', True)\n",
    "song_data['explicit'] = song_data['explicit'].replace(explicitDict)\n",
    "print(song_data['explicit'].unique())"
   ]
  },
  {
   "cell_type": "code",
   "execution_count": null,
   "id": "d80e1db7-5bb2-400d-b831-d6bd266f1a0d",
   "metadata": {},
   "outputs": [],
   "source": [
    "from sklearn.preprocessing import StandardScaler\n",
    "X = song_data[[]]\n",
    "# scaler = StandardScaler()\n",
    "# X = scaler.fit_transform(X)\n",
    "X = StandardScaler().fit_transform(X)"
   ]
  },
  {
   "cell_type": "code",
   "execution_count": 6,
   "id": "d44b801c-8722-49a1-aacf-93773d55bfc2",
   "metadata": {},
   "outputs": [],
   "source": [
    "from sklearn.cluster import KMeans\n",
    "\n",
    "kmeans = KMeans(init=\"k-means++\", n_clusters = 344, n_init=4, random_state=1)\n",
    "kmeans.fit(X)\n",
    "song_data['cluster'] = kmeans.labels_"
   ]
  },
  {
   "cell_type": "code",
   "execution_count": null,
   "id": "c3c7738e-1b06-4296-94df-76b602fdc8cf",
   "metadata": {
    "scrolled": true
   },
   "outputs": [],
   "source": [
    "for cluster in sorted(song_data['cluster'].unique())[200:210]:\n",
    "    print(f\"\\nCluster #{cluster}\")\n",
    "    songsInCluster = song_data[song_data['cluster'] == cluster].head(5)\n",
    "    for songName in songsInCluster['song']:\n",
    "        print(f\" - {songName}\")"
   ]
  },
  {
   "cell_type": "code",
   "execution_count": 7,
   "id": "008347c2-2fa2-49b2-bee9-01b66289e0d6",
   "metadata": {},
   "outputs": [
    {
     "name": "stdout",
     "output_type": "stream",
     "text": [
      "     artist             song emotion  variance Genre  Release Date     Key  \\\n",
      "4456  Drake  Best I Ever Had     joy  0.411265   rap          2024  C# Maj   \n",
      "\n",
      "      Tempo  Loudness Explicit  Popularity  Energy  Danceability  \\\n",
      "4456    162     -2.18        1          80      92            40   \n",
      "\n",
      "      Positiveness  Speechiness  Liveness  Acousticness  Instrumentalness  \\\n",
      "4456            56           38        13            19                 0   \n",
      "\n",
      "      cluster  \n",
      "4456      339  \n",
      "[72]\n"
     ]
    },
    {
     "name": "stderr",
     "output_type": "stream",
     "text": [
      "C:\\Users\\charl\\Desktop\\programming\\SpotifySongRecommender\\SpotifySongRecommender\\.venv\\Lib\\site-packages\\sklearn\\utils\\validation.py:2732: UserWarning: X has feature names, but KMeans was fitted without feature names\n",
      "  warnings.warn(\n"
     ]
    }
   ],
   "source": [
    "datapoint = song_data.iloc[[4456]]\n",
    "filteredDatapoint = datapoint.drop('artist', axis=1).drop('song', axis=1).drop('emotion', axis=1).drop('Key', axis=1).drop('Genre',axis=1).drop('cluster', axis=1)\n",
    "print(datapoint)\n",
    "test = kmeans.predict(filteredDatapoint)\n",
    "print(test)"
   ]
  },
  {
   "cell_type": "code",
   "execution_count": 8,
   "id": "8e4a5768-4ce1-4363-acdf-139775d5af91",
   "metadata": {},
   "outputs": [
    {
     "name": "stdout",
     "output_type": "stream",
     "text": [
      "                    artist                  song   emotion  variance  \\\n",
      "57867              theMIND     Animated Ambition       joy  0.833514   \n",
      "58357  mike. fka mike stud          Captain Hook       joy  0.833514   \n",
      "58821        iLoveMakonnen               Tuesday       joy  0.833514   \n",
      "58824        iLoveMakonnen               No Maam       joy  0.833514   \n",
      "58827        iLoveMakonnen  Down 4 So Long Remix  surprise  0.833514   \n",
      "\n",
      "                             Genre  Release Date     Key  Tempo  Loudness  \\\n",
      "57867  Ghetto Sage,Unknown,Unknown          2021   G min    149     -5.19   \n",
      "58357      Unknown,Unknown,Unknown          2020  A# min    164     -5.00   \n",
      "58821                         soul          2014   C Maj    140     -6.00   \n",
      "58824                         soul          2014   C Maj    140     -6.00   \n",
      "58827                         soul          2014   C Maj    140     -6.00   \n",
      "\n",
      "      Explicit  Popularity  Energy  Danceability  Positiveness  Speechiness  \\\n",
      "57867        1          77      73            84            58           19   \n",
      "58357        1          65      63            86            55           29   \n",
      "58821        1          62      66            77            47           21   \n",
      "58824        1          63      66            77            47           21   \n",
      "58827        1          63      66            77            47           21   \n",
      "\n",
      "       Liveness  Acousticness  Instrumentalness  cluster  \n",
      "57867        14             1                 0       72  \n",
      "58357        28             1                 0       72  \n",
      "58821        10            22                 0       72  \n",
      "58824        10            22                 0       72  \n",
      "58827        10            22                 0       72  \n"
     ]
    }
   ],
   "source": [
    "print(song_data[song_data['cluster'] == test[0]].head(5))"
   ]
  },
  {
   "cell_type": "code",
   "execution_count": 7,
   "id": "d261df44-7617-4102-adc5-d7ea4f59a8ea",
   "metadata": {},
   "outputs": [
    {
     "name": "stdout",
     "output_type": "stream",
     "text": [
      "['./models/KMeans_20250511-2137']\n",
      "./models/KMeans_20250511-2137\n"
     ]
    }
   ],
   "source": [
    "# exporting model\n",
    "print(utilities.dump_model(kmeans))"
   ]
  },
  {
   "cell_type": "markdown",
   "id": "751a1854-69d9-485f-bef9-020339365294",
   "metadata": {},
   "source": [
    "model = load_model()"
   ]
  },
  {
   "cell_type": "code",
   "execution_count": null,
   "id": "14996fe9-42d7-4d38-88d4-815737343fd9",
   "metadata": {},
   "outputs": [],
   "source": [
    "# importing model\n",
    "model = joblib.load('./models/test_model_joblib')"
   ]
  },
  {
   "cell_type": "code",
   "execution_count": null,
   "id": "183db37b-4ea4-49bb-9579-1dc6c36cf64c",
   "metadata": {},
   "outputs": [],
   "source": [
    "test = model.predict(filteredDatapoint)\n",
    "print(test)"
   ]
  }
 ],
 "metadata": {
  "kernelspec": {
   "display_name": ".venv",
   "language": "python",
   "name": "python3"
  },
  "language_info": {
   "codemirror_mode": {
    "name": "ipython",
    "version": 3
   },
   "file_extension": ".py",
   "mimetype": "text/x-python",
   "name": "python",
   "nbconvert_exporter": "python",
   "pygments_lexer": "ipython3",
   "version": "3.11.9"
  }
 },
 "nbformat": 4,
 "nbformat_minor": 5
}
