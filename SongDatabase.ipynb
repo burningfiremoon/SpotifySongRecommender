{
 "cells": [
  {
   "cell_type": "code",
   "execution_count": null,
   "id": "900dc0fa-cb14-4a90-8594-522ce0757f65",
   "metadata": {},
   "outputs": [],
   "source": [
    "import pandas as pd\n",
    "import boto3\n",
    "\n",
    "s3 = boto3.resourse('s3')\n",
    "\n",
    "s3_obj = s3.Bucket(\"spotify-song-recommender-data\").Object('tracks_features.csv').get()\n",
    "\n",
    "song_data = pd.read_csv(s3_obj['Body'])"
   ]
  },
  {
   "cell_type": "code",
   "execution_count": null,
   "id": "a22f4147-2fb1-4003-92c6-918ad8b9f430",
   "metadata": {},
   "outputs": [],
   "source": [
    "DB_NAME = 'tracksdatabase'\n",
    "\n",
    "TABLES = {}\n",
    "TABLES['tracks'] = (\n",
    "    \"CREATE TABLE 'tracks' (\"\n",
    "    \"'track_id' varchar(22) NOT NULL\"\n",
    "    \"PRIMARY KEY ('track_id')\"\n",
    "    \") ENGINE=InnoDB\"\n",
    ")\n",
    "print(\"done\") "
   ]
  },
  {
   "cell_type": "code",
   "execution_count": 4,
   "id": "dd56e448-b9d3-4a5b-b4f7-3d92341c7254",
   "metadata": {},
   "outputs": [
    {
     "name": "stdout",
     "output_type": "stream",
     "text": [
      "done\n"
     ]
    }
   ],
   "source": [
    "import mysql.connector\n",
    "from mysql.connector import errorcode\n",
    "import os\n",
    "from dotenv import load_dotenv\n",
    "\n",
    "load_dotenv()\n",
    "\n",
    "SQLid = os.getenv(\"SQL_ID\")\n",
    "SQLpassword = os.getenv(\"SQL_PASSWORD\")\n",
    "\n",
    "try:\n",
    "    cnx = mysql.connector.connect(\n",
    "        user = SQLid,\n",
    "        password = SQLpassword,\n",
    "        host = 'trackdatabase.cfgs6eaksjht.ca-central-1.rds.amazonaws.com',\n",
    "        database = 'Tracks_Database',\n",
    "        port = 3306\n",
    "    )\n",
    "except mysql.connector.Error as err:\n",
    "    if err.errno == errorcode.ER_ACCESS_DENIED_ERROR:\n",
    "        print(\"Something is wrong with user name and password\")\n",
    "    elif err.errno == errorcode.ER_BAD_DB_ERROR:\n",
    "        print(\"database doesn't exist\")\n",
    "    else:\n",
    "        print(err)\n",
    "\n",
    "mycursor = cnx.cursor()\n",
    "\n",
    "print(\"done\")\n",
    "          "
   ]
  },
  {
   "cell_type": "code",
   "execution_count": null,
   "id": "48afcf7a-08c9-4d29-b90f-db429b59b2e4",
   "metadata": {},
   "outputs": [],
   "source": [
    "mycursor.execute(\"\"\"CREATE TABLE tracks\n",
    "(track_id CHAR(22) NOT NULL PRIMARY KEY, \n",
    "song_name VARCHAR(255) NOT NULL, \n",
    "artist_name VARCHAR(255) NOT NULL) ENGINE=InnoDB\"\"\") "
   ]
  }
 ],
 "metadata": {
  "kernelspec": {
   "display_name": "Python 3 (ipykernel)",
   "language": "python",
   "name": "python3"
  },
  "language_info": {
   "codemirror_mode": {
    "name": "ipython",
    "version": 3
   },
   "file_extension": ".py",
   "mimetype": "text/x-python",
   "name": "python",
   "nbconvert_exporter": "python",
   "pygments_lexer": "ipython3",
   "version": "3.11.9"
  }
 },
 "nbformat": 4,
 "nbformat_minor": 5
}
